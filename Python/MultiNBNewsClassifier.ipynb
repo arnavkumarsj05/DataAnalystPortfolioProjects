{
 "cells": [
  {
   "cell_type": "markdown",
   "id": "c70361c7",
   "metadata": {},
   "source": [
    "# Multinominal NB News Article Classifier with NLP"
   ]
  },
  {
   "cell_type": "markdown",
   "id": "8e95b350",
   "metadata": {},
   "source": [
    "Training an ML model to categorize News Articles in entertainment, business, and tech."
   ]
  },
  {
   "cell_type": "code",
   "execution_count": 68,
   "id": "984e42a5",
   "metadata": {},
   "outputs": [],
   "source": [
    "# import modules\n",
    "import pandas as pd\n",
    "import matplotlib.pyplot as plt\n",
    "import matplotlib\n",
    "import numpy as np\n",
    "import seaborn as sns\n",
    "import os\n",
    "from sklearn.model_selection import train_test_split\n",
    "from sklearn.naive_bayes import MultinomialNB\n",
    "from sklearn import metrics\n",
    "import nltk"
   ]
  },
  {
   "cell_type": "markdown",
   "id": "196de76b",
   "metadata": {},
   "source": [
    "Dataset: Preproccessed Text from BBC news ready for ML.\n",
    "https://www.kaggle.com/datasets/dheemanthbhat/bbc-full-text-preprocessed?select=docs_stage_3_preprocessed.csv"
   ]
  },
  {
   "cell_type": "markdown",
   "id": "b63724b6",
   "metadata": {},
   "source": [
    "1. Reading data into a df."
   ]
  },
  {
   "cell_type": "code",
   "execution_count": 69,
   "id": "63381186",
   "metadata": {},
   "outputs": [
    {
     "data": {
      "text/html": [
       "<div>\n",
       "<style scoped>\n",
       "    .dataframe tbody tr th:only-of-type {\n",
       "        vertical-align: middle;\n",
       "    }\n",
       "\n",
       "    .dataframe tbody tr th {\n",
       "        vertical-align: top;\n",
       "    }\n",
       "\n",
       "    .dataframe thead th {\n",
       "        text-align: right;\n",
       "    }\n",
       "</style>\n",
       "<table border=\"1\" class=\"dataframe\">\n",
       "  <thead>\n",
       "    <tr style=\"text-align: right;\">\n",
       "      <th></th>\n",
       "      <th>DocId</th>\n",
       "      <th>DocTextlen</th>\n",
       "      <th>DocText</th>\n",
       "      <th>ADJ</th>\n",
       "      <th>ADP</th>\n",
       "      <th>ADV</th>\n",
       "      <th>AUX</th>\n",
       "      <th>CCONJ</th>\n",
       "      <th>DET</th>\n",
       "      <th>NOUN</th>\n",
       "      <th>...</th>\n",
       "      <th>PUNCT</th>\n",
       "      <th>SCONJ</th>\n",
       "      <th>SYM</th>\n",
       "      <th>VERB</th>\n",
       "      <th>X</th>\n",
       "      <th>INTJ</th>\n",
       "      <th>DocType</th>\n",
       "      <th>FileSize</th>\n",
       "      <th>FilePath</th>\n",
       "      <th>DocCat</th>\n",
       "    </tr>\n",
       "  </thead>\n",
       "  <tbody>\n",
       "    <tr>\n",
       "      <th>0</th>\n",
       "      <td>B_001</td>\n",
       "      <td>2553</td>\n",
       "      <td>ad sale boost time_warner profit quarterly pro...</td>\n",
       "      <td>31</td>\n",
       "      <td>61</td>\n",
       "      <td>15.0</td>\n",
       "      <td>15.0</td>\n",
       "      <td>13.0</td>\n",
       "      <td>28</td>\n",
       "      <td>114</td>\n",
       "      <td>...</td>\n",
       "      <td>55</td>\n",
       "      <td>3.0</td>\n",
       "      <td>9.0</td>\n",
       "      <td>53</td>\n",
       "      <td>0.0</td>\n",
       "      <td>0.0</td>\n",
       "      <td>Business</td>\n",
       "      <td>2560</td>\n",
       "      <td>../input/bbc-full-text-document-classification...</td>\n",
       "      <td>0</td>\n",
       "    </tr>\n",
       "    <tr>\n",
       "      <th>1</th>\n",
       "      <td>B_002</td>\n",
       "      <td>2248</td>\n",
       "      <td>dollar gain greenspan speech dollar hit high l...</td>\n",
       "      <td>33</td>\n",
       "      <td>54</td>\n",
       "      <td>15.0</td>\n",
       "      <td>21.0</td>\n",
       "      <td>9.0</td>\n",
       "      <td>44</td>\n",
       "      <td>99</td>\n",
       "      <td>...</td>\n",
       "      <td>43</td>\n",
       "      <td>5.0</td>\n",
       "      <td>2.0</td>\n",
       "      <td>43</td>\n",
       "      <td>0.0</td>\n",
       "      <td>0.0</td>\n",
       "      <td>Business</td>\n",
       "      <td>2252</td>\n",
       "      <td>../input/bbc-full-text-document-classification...</td>\n",
       "      <td>0</td>\n",
       "    </tr>\n",
       "    <tr>\n",
       "      <th>2</th>\n",
       "      <td>B_003</td>\n",
       "      <td>1547</td>\n",
       "      <td>yukos unit buyer face loan claim owner embattl...</td>\n",
       "      <td>11</td>\n",
       "      <td>32</td>\n",
       "      <td>3.0</td>\n",
       "      <td>15.0</td>\n",
       "      <td>4.0</td>\n",
       "      <td>25</td>\n",
       "      <td>71</td>\n",
       "      <td>...</td>\n",
       "      <td>26</td>\n",
       "      <td>3.0</td>\n",
       "      <td>4.0</td>\n",
       "      <td>42</td>\n",
       "      <td>0.0</td>\n",
       "      <td>0.0</td>\n",
       "      <td>Business</td>\n",
       "      <td>1552</td>\n",
       "      <td>../input/bbc-full-text-document-classification...</td>\n",
       "      <td>0</td>\n",
       "    </tr>\n",
       "    <tr>\n",
       "      <th>3</th>\n",
       "      <td>B_004</td>\n",
       "      <td>2395</td>\n",
       "      <td>high fuel price hit ba profit british_airways ...</td>\n",
       "      <td>36</td>\n",
       "      <td>53</td>\n",
       "      <td>16.0</td>\n",
       "      <td>17.0</td>\n",
       "      <td>8.0</td>\n",
       "      <td>26</td>\n",
       "      <td>114</td>\n",
       "      <td>...</td>\n",
       "      <td>62</td>\n",
       "      <td>8.0</td>\n",
       "      <td>10.0</td>\n",
       "      <td>45</td>\n",
       "      <td>0.0</td>\n",
       "      <td>0.0</td>\n",
       "      <td>Business</td>\n",
       "      <td>2412</td>\n",
       "      <td>../input/bbc-full-text-document-classification...</td>\n",
       "      <td>0</td>\n",
       "    </tr>\n",
       "    <tr>\n",
       "      <th>4</th>\n",
       "      <td>B_005</td>\n",
       "      <td>1565</td>\n",
       "      <td>pernod takeover talk lift domecq share uk drin...</td>\n",
       "      <td>15</td>\n",
       "      <td>32</td>\n",
       "      <td>5.0</td>\n",
       "      <td>13.0</td>\n",
       "      <td>8.0</td>\n",
       "      <td>14</td>\n",
       "      <td>68</td>\n",
       "      <td>...</td>\n",
       "      <td>35</td>\n",
       "      <td>5.0</td>\n",
       "      <td>3.0</td>\n",
       "      <td>26</td>\n",
       "      <td>0.0</td>\n",
       "      <td>0.0</td>\n",
       "      <td>Business</td>\n",
       "      <td>1570</td>\n",
       "      <td>../input/bbc-full-text-document-classification...</td>\n",
       "      <td>0</td>\n",
       "    </tr>\n",
       "  </tbody>\n",
       "</table>\n",
       "<p>5 rows × 24 columns</p>\n",
       "</div>"
      ],
      "text/plain": [
       "   DocId  DocTextlen                                            DocText  ADJ  \\\n",
       "0  B_001        2553  ad sale boost time_warner profit quarterly pro...   31   \n",
       "1  B_002        2248  dollar gain greenspan speech dollar hit high l...   33   \n",
       "2  B_003        1547  yukos unit buyer face loan claim owner embattl...   11   \n",
       "3  B_004        2395  high fuel price hit ba profit british_airways ...   36   \n",
       "4  B_005        1565  pernod takeover talk lift domecq share uk drin...   15   \n",
       "\n",
       "   ADP   ADV   AUX  CCONJ  DET  NOUN  ...  PUNCT  SCONJ   SYM  VERB    X  \\\n",
       "0   61  15.0  15.0   13.0   28   114  ...     55    3.0   9.0    53  0.0   \n",
       "1   54  15.0  21.0    9.0   44    99  ...     43    5.0   2.0    43  0.0   \n",
       "2   32   3.0  15.0    4.0   25    71  ...     26    3.0   4.0    42  0.0   \n",
       "3   53  16.0  17.0    8.0   26   114  ...     62    8.0  10.0    45  0.0   \n",
       "4   32   5.0  13.0    8.0   14    68  ...     35    5.0   3.0    26  0.0   \n",
       "\n",
       "   INTJ   DocType  FileSize  \\\n",
       "0   0.0  Business      2560   \n",
       "1   0.0  Business      2252   \n",
       "2   0.0  Business      1552   \n",
       "3   0.0  Business      2412   \n",
       "4   0.0  Business      1570   \n",
       "\n",
       "                                            FilePath  DocCat  \n",
       "0  ../input/bbc-full-text-document-classification...       0  \n",
       "1  ../input/bbc-full-text-document-classification...       0  \n",
       "2  ../input/bbc-full-text-document-classification...       0  \n",
       "3  ../input/bbc-full-text-document-classification...       0  \n",
       "4  ../input/bbc-full-text-document-classification...       0  \n",
       "\n",
       "[5 rows x 24 columns]"
      ]
     },
     "metadata": {},
     "output_type": "display_data"
    }
   ],
   "source": [
    "df = pd.read_csv(\"news.csv\")\n",
    "display(df[:5])"
   ]
  },
  {
   "cell_type": "markdown",
   "id": "2b64c9fd",
   "metadata": {},
   "source": [
    "2. Data cleaning"
   ]
  },
  {
   "cell_type": "code",
   "execution_count": 70,
   "id": "d70f41c2",
   "metadata": {},
   "outputs": [
    {
     "name": "stdout",
     "output_type": "stream",
     "text": [
      "['DocId' 'DocTextlen' 'DocText' 'ADJ' 'ADP' 'ADV' 'AUX' 'CCONJ' 'DET'\n",
      " 'NOUN' 'NUM' 'PART' 'PRON' 'PROPN' 'PUNCT' 'SCONJ' 'SYM' 'VERB' 'X'\n",
      " 'INTJ' 'DocType' 'FileSize' 'FilePath' 'DocCat']\n"
     ]
    }
   ],
   "source": [
    "print(df.columns.values)"
   ]
  },
  {
   "cell_type": "markdown",
   "id": "e2d3e0a6",
   "metadata": {},
   "source": [
    "The columns to keep are:\n",
    "- DocText: contains the news articles\n",
    "- DocType: categories of the news articles, as strings\n",
    "- DocCat: categories of the news articles, as numbers"
   ]
  },
  {
   "cell_type": "raw",
   "id": "00697f39",
   "metadata": {},
   "source": [
    "Filesize/path is irrelevant to the model, and DOCID can be replaced by index. The rest are relevant to the model."
   ]
  },
  {
   "cell_type": "code",
   "execution_count": 71,
   "id": "2cca8808",
   "metadata": {},
   "outputs": [
    {
     "data": {
      "text/html": [
       "<div>\n",
       "<style scoped>\n",
       "    .dataframe tbody tr th:only-of-type {\n",
       "        vertical-align: middle;\n",
       "    }\n",
       "\n",
       "    .dataframe tbody tr th {\n",
       "        vertical-align: top;\n",
       "    }\n",
       "\n",
       "    .dataframe thead th {\n",
       "        text-align: right;\n",
       "    }\n",
       "</style>\n",
       "<table border=\"1\" class=\"dataframe\">\n",
       "  <thead>\n",
       "    <tr style=\"text-align: right;\">\n",
       "      <th></th>\n",
       "      <th>DocText</th>\n",
       "      <th>DocType</th>\n",
       "      <th>DocCat</th>\n",
       "    </tr>\n",
       "  </thead>\n",
       "  <tbody>\n",
       "    <tr>\n",
       "      <th>0</th>\n",
       "      <td>ad sale boost time_warner profit quarterly pro...</td>\n",
       "      <td>Business</td>\n",
       "      <td>0</td>\n",
       "    </tr>\n",
       "    <tr>\n",
       "      <th>1</th>\n",
       "      <td>dollar gain greenspan speech dollar hit high l...</td>\n",
       "      <td>Business</td>\n",
       "      <td>0</td>\n",
       "    </tr>\n",
       "    <tr>\n",
       "      <th>2</th>\n",
       "      <td>yukos unit buyer face loan claim owner embattl...</td>\n",
       "      <td>Business</td>\n",
       "      <td>0</td>\n",
       "    </tr>\n",
       "    <tr>\n",
       "      <th>3</th>\n",
       "      <td>high fuel price hit ba profit british_airways ...</td>\n",
       "      <td>Business</td>\n",
       "      <td>0</td>\n",
       "    </tr>\n",
       "    <tr>\n",
       "      <th>4</th>\n",
       "      <td>pernod takeover talk lift domecq share uk drin...</td>\n",
       "      <td>Business</td>\n",
       "      <td>0</td>\n",
       "    </tr>\n",
       "  </tbody>\n",
       "</table>\n",
       "</div>"
      ],
      "text/plain": [
       "                                             DocText   DocType  DocCat\n",
       "0  ad sale boost time_warner profit quarterly pro...  Business       0\n",
       "1  dollar gain greenspan speech dollar hit high l...  Business       0\n",
       "2  yukos unit buyer face loan claim owner embattl...  Business       0\n",
       "3  high fuel price hit ba profit british_airways ...  Business       0\n",
       "4  pernod takeover talk lift domecq share uk drin...  Business       0"
      ]
     },
     "metadata": {},
     "output_type": "display_data"
    }
   ],
   "source": [
    "df.drop(columns=['DocId', 'DocTextlen', 'ADJ','ADP', 'ADV', 'AUX', 'CCONJ', 'DET', 'NOUN', 'NUM', 'PART', 'PRON', 'PROPN', 'PUNCT', 'SCONJ', 'SYM', 'VERB', 'X', 'INTJ', 'FileSize', 'FilePath'], inplace=True),'\\n'\n",
    "display(df[:5])"
   ]
  },
  {
   "cell_type": "code",
   "execution_count": 72,
   "id": "43c42752",
   "metadata": {},
   "outputs": [
    {
     "data": {
      "text/html": [
       "<div>\n",
       "<style scoped>\n",
       "    .dataframe tbody tr th:only-of-type {\n",
       "        vertical-align: middle;\n",
       "    }\n",
       "\n",
       "    .dataframe tbody tr th {\n",
       "        vertical-align: top;\n",
       "    }\n",
       "\n",
       "    .dataframe thead th {\n",
       "        text-align: right;\n",
       "    }\n",
       "</style>\n",
       "<table border=\"1\" class=\"dataframe\">\n",
       "  <thead>\n",
       "    <tr style=\"text-align: right;\">\n",
       "      <th></th>\n",
       "      <th>text</th>\n",
       "      <th>type</th>\n",
       "      <th>cat</th>\n",
       "    </tr>\n",
       "  </thead>\n",
       "  <tbody>\n",
       "    <tr>\n",
       "      <th>0</th>\n",
       "      <td>ad sale boost time_warner profit quarterly pro...</td>\n",
       "      <td>Business</td>\n",
       "      <td>0</td>\n",
       "    </tr>\n",
       "    <tr>\n",
       "      <th>1</th>\n",
       "      <td>dollar gain greenspan speech dollar hit high l...</td>\n",
       "      <td>Business</td>\n",
       "      <td>0</td>\n",
       "    </tr>\n",
       "    <tr>\n",
       "      <th>2</th>\n",
       "      <td>yukos unit buyer face loan claim owner embattl...</td>\n",
       "      <td>Business</td>\n",
       "      <td>0</td>\n",
       "    </tr>\n",
       "    <tr>\n",
       "      <th>3</th>\n",
       "      <td>high fuel price hit ba profit british_airways ...</td>\n",
       "      <td>Business</td>\n",
       "      <td>0</td>\n",
       "    </tr>\n",
       "    <tr>\n",
       "      <th>4</th>\n",
       "      <td>pernod takeover talk lift domecq share uk drin...</td>\n",
       "      <td>Business</td>\n",
       "      <td>0</td>\n",
       "    </tr>\n",
       "  </tbody>\n",
       "</table>\n",
       "</div>"
      ],
      "text/plain": [
       "                                                text      type  cat\n",
       "0  ad sale boost time_warner profit quarterly pro...  Business    0\n",
       "1  dollar gain greenspan speech dollar hit high l...  Business    0\n",
       "2  yukos unit buyer face loan claim owner embattl...  Business    0\n",
       "3  high fuel price hit ba profit british_airways ...  Business    0\n",
       "4  pernod takeover talk lift domecq share uk drin...  Business    0"
      ]
     },
     "metadata": {},
     "output_type": "display_data"
    }
   ],
   "source": [
    "df = df.rename(columns={\"DocText\":\"text\", \"DocType\":\"type\", \"DocCat\":\"cat\"})\n",
    "display(df[:5])"
   ]
  },
  {
   "cell_type": "markdown",
   "id": "478c5ce6",
   "metadata": {},
   "source": [
    "2e. Remove any NaN"
   ]
  },
  {
   "cell_type": "code",
   "execution_count": 73,
   "id": "0b61ba24",
   "metadata": {},
   "outputs": [
    {
     "data": {
      "text/html": [
       "<div>\n",
       "<style scoped>\n",
       "    .dataframe tbody tr th:only-of-type {\n",
       "        vertical-align: middle;\n",
       "    }\n",
       "\n",
       "    .dataframe tbody tr th {\n",
       "        vertical-align: top;\n",
       "    }\n",
       "\n",
       "    .dataframe thead th {\n",
       "        text-align: right;\n",
       "    }\n",
       "</style>\n",
       "<table border=\"1\" class=\"dataframe\">\n",
       "  <thead>\n",
       "    <tr style=\"text-align: right;\">\n",
       "      <th></th>\n",
       "      <th>text</th>\n",
       "      <th>type</th>\n",
       "      <th>cat</th>\n",
       "    </tr>\n",
       "  </thead>\n",
       "  <tbody>\n",
       "    <tr>\n",
       "      <th>0</th>\n",
       "      <td>ad sale boost time_warner profit quarterly pro...</td>\n",
       "      <td>Business</td>\n",
       "      <td>0</td>\n",
       "    </tr>\n",
       "    <tr>\n",
       "      <th>1</th>\n",
       "      <td>dollar gain greenspan speech dollar hit high l...</td>\n",
       "      <td>Business</td>\n",
       "      <td>0</td>\n",
       "    </tr>\n",
       "    <tr>\n",
       "      <th>2</th>\n",
       "      <td>yukos unit buyer face loan claim owner embattl...</td>\n",
       "      <td>Business</td>\n",
       "      <td>0</td>\n",
       "    </tr>\n",
       "    <tr>\n",
       "      <th>3</th>\n",
       "      <td>high fuel price hit ba profit british_airways ...</td>\n",
       "      <td>Business</td>\n",
       "      <td>0</td>\n",
       "    </tr>\n",
       "    <tr>\n",
       "      <th>4</th>\n",
       "      <td>pernod takeover talk lift domecq share uk drin...</td>\n",
       "      <td>Business</td>\n",
       "      <td>0</td>\n",
       "    </tr>\n",
       "  </tbody>\n",
       "</table>\n",
       "</div>"
      ],
      "text/plain": [
       "                                                text      type  cat\n",
       "0  ad sale boost time_warner profit quarterly pro...  Business    0\n",
       "1  dollar gain greenspan speech dollar hit high l...  Business    0\n",
       "2  yukos unit buyer face loan claim owner embattl...  Business    0\n",
       "3  high fuel price hit ba profit british_airways ...  Business    0\n",
       "4  pernod takeover talk lift domecq share uk drin...  Business    0"
      ]
     },
     "metadata": {},
     "output_type": "display_data"
    }
   ],
   "source": [
    "df=df.dropna()\n",
    "display(df[:5])"
   ]
  },
  {
   "cell_type": "markdown",
   "id": "9b6a79cd",
   "metadata": {},
   "source": [
    "Show count and type of each DocType."
   ]
  },
  {
   "cell_type": "code",
   "execution_count": 74,
   "id": "f744e8ff",
   "metadata": {},
   "outputs": [
    {
     "name": "stdout",
     "output_type": "stream",
     "text": [
      "type\n",
      "Business         510\n",
      "Entertainment    381\n",
      "Politics         413\n",
      "Sport            506\n",
      "Tech             395\n",
      "dtype: int64\n",
      "cat\n",
      "0    510\n",
      "1    381\n",
      "2    413\n",
      "3    506\n",
      "4    395\n",
      "dtype: int64\n"
     ]
    }
   ],
   "source": [
    "print(df.groupby(['type']).size())\n",
    "print(df.groupby(['cat']).size())"
   ]
  },
  {
   "cell_type": "markdown",
   "id": "8575542a",
   "metadata": {},
   "source": [
    "Check DocType and DocCat Correspond."
   ]
  },
  {
   "cell_type": "code",
   "execution_count": 75,
   "id": "9a938117",
   "metadata": {},
   "outputs": [
    {
     "name": "stdout",
     "output_type": "stream",
     "text": [
      "True\n",
      "True\n",
      "True\n",
      "True\n",
      "True\n"
     ]
    }
   ],
   "source": [
    "print(((df['type'] == 'Business') & (df['cat'] == 0)).any())\n",
    "print(((df['type'] == 'Entertainment') & (df['cat'] == 1)).any())\n",
    "print(((df['type'] == 'Politics') & (df['cat'] == 2)).any())\n",
    "print(((df['type'] == 'Sport') & (df['cat'] == 3)).any())\n",
    "print(((df['type'] == 'Tech') & (df['cat'] == 4)).any())"
   ]
  },
  {
   "cell_type": "markdown",
   "id": "b8647499",
   "metadata": {},
   "source": [
    "Create a lookup table using cat and type."
   ]
  },
  {
   "cell_type": "code",
   "execution_count": 76,
   "id": "576e94b2",
   "metadata": {},
   "outputs": [
    {
     "name": "stdout",
     "output_type": "stream",
     "text": [
      "{0: 'Business', 1: 'Entertainment', 2: 'Politics', 3: 'Sport', 4: 'Tech'}\n"
     ]
    }
   ],
   "source": [
    "d = dict(zip(df['cat'],df[\"type\"]))\n",
    "print(d)"
   ]
  },
  {
   "cell_type": "markdown",
   "id": "4fcbab3f",
   "metadata": {},
   "source": [
    "4. Preparing data for ML\n"
   ]
  },
  {
   "cell_type": "code",
   "execution_count": 77,
   "id": "e76a884d",
   "metadata": {},
   "outputs": [
    {
     "data": {
      "text/html": [
       "<div>\n",
       "<style scoped>\n",
       "    .dataframe tbody tr th:only-of-type {\n",
       "        vertical-align: middle;\n",
       "    }\n",
       "\n",
       "    .dataframe tbody tr th {\n",
       "        vertical-align: top;\n",
       "    }\n",
       "\n",
       "    .dataframe thead th {\n",
       "        text-align: right;\n",
       "    }\n",
       "</style>\n",
       "<table border=\"1\" class=\"dataframe\">\n",
       "  <thead>\n",
       "    <tr style=\"text-align: right;\">\n",
       "      <th></th>\n",
       "      <th>text</th>\n",
       "      <th>cat</th>\n",
       "    </tr>\n",
       "  </thead>\n",
       "  <tbody>\n",
       "    <tr>\n",
       "      <th>0</th>\n",
       "      <td>ad sale boost time_warner profit quarterly pro...</td>\n",
       "      <td>0</td>\n",
       "    </tr>\n",
       "    <tr>\n",
       "      <th>1</th>\n",
       "      <td>dollar gain greenspan speech dollar hit high l...</td>\n",
       "      <td>0</td>\n",
       "    </tr>\n",
       "    <tr>\n",
       "      <th>2</th>\n",
       "      <td>yukos unit buyer face loan claim owner embattl...</td>\n",
       "      <td>0</td>\n",
       "    </tr>\n",
       "    <tr>\n",
       "      <th>3</th>\n",
       "      <td>high fuel price hit ba profit british_airways ...</td>\n",
       "      <td>0</td>\n",
       "    </tr>\n",
       "    <tr>\n",
       "      <th>4</th>\n",
       "      <td>pernod takeover talk lift domecq share uk drin...</td>\n",
       "      <td>0</td>\n",
       "    </tr>\n",
       "  </tbody>\n",
       "</table>\n",
       "</div>"
      ],
      "text/plain": [
       "                                                text  cat\n",
       "0  ad sale boost time_warner profit quarterly pro...    0\n",
       "1  dollar gain greenspan speech dollar hit high l...    0\n",
       "2  yukos unit buyer face loan claim owner embattl...    0\n",
       "3  high fuel price hit ba profit british_airways ...    0\n",
       "4  pernod takeover talk lift domecq share uk drin...    0"
      ]
     },
     "metadata": {},
     "output_type": "display_data"
    }
   ],
   "source": [
    "df.drop(columns=['type'], inplace=True),'\\n'\n",
    "display(df[:5])"
   ]
  },
  {
   "cell_type": "markdown",
   "id": "6d628d12",
   "metadata": {},
   "source": [
    "4b. __Create the X and y datasets__"
   ]
  },
  {
   "cell_type": "code",
   "execution_count": 78,
   "id": "5649e0ba",
   "metadata": {},
   "outputs": [
    {
     "name": "stdout",
     "output_type": "stream",
     "text": [
      "(2205,)\n",
      "(2205,)\n"
     ]
    }
   ],
   "source": [
    "X=df.text\n",
    "y=df.cat\n",
    "print(X.shape)\n",
    "print(y.shape)"
   ]
  },
  {
   "cell_type": "markdown",
   "id": "c1c84907",
   "metadata": {},
   "source": [
    "Inspect the dataset for any further preprocessing."
   ]
  },
  {
   "cell_type": "code",
   "execution_count": 79,
   "id": "33e53a1f",
   "metadata": {},
   "outputs": [
    {
     "name": "stdout",
     "output_type": "stream",
     "text": [
      "ad sale boost time_warner profit quarterly profit media giant timewarner jump 76 $ 1.13bn £ 600 m month december $ 639 m year early firm big investor google benefit sale high speed internet connection high advert sale timewarner say fourth quarter sale rise 2 $ 11.1bn $ 10.9bn profit buoy gain offset profit dip warner_bros user aol time_warner say friday own 8 search engine google internet business aol mixed fortune lose 464,000 subscriber fourth quarter profit low precede quarter company say aol underlie profit exceptional item rise 8 strong internet advertising revenue hope increase subscriber offer online service free timewarner internet customer try sign aol exist customer high speed broadband timewarner restate 2000 2003 result follow probe the_us_securities_exchange_commission sec close conclude time_warner's fourth quarter profit slightly well analyst expectation film division see profit slump 27 $ 284 m help box office flop alexander catwoman sharp contrast year early final film lord rings trilogy boost result year timewarner post profit $ 3.36bn 27 2003 performance revenue grow 6.4 $ 42.09bn financial performance strong meet exceed year objective greatly enhance flexibility chairman chief executive richard_parsons say 2005 timewarner project operate earning growth 5 expect high revenue wide profit margin timewarner restate account effort resolve inquiry aol market regulator offer pay $ 300 m settle charge deal review sec company say unable estimate need set aside legal reserve previously set $ 500 m. intend adjust way account deal german music publisher bertelsmann purchase stake aol_europe report advertising revenue book sale stake aol_europe loss value stake\n"
     ]
    }
   ],
   "source": [
    "print(df.text[0])"
   ]
  },
  {
   "cell_type": "raw",
   "id": "f4dddefc",
   "metadata": {},
   "source": [
    "Stop words have been removed. There is no \"a\", \"and\", \"in\", or other similar words.\n",
    "Stemming has been applied. All words are root words, such as \"enhance\" as opposed to \"enhanced\" \"enhances\" or \"enhancer\"."
   ]
  },
  {
   "cell_type": "markdown",
   "id": "2402320d",
   "metadata": {},
   "source": [
    "4e. Convert the preprocessed data to numbers so it's ready for the ML model."
   ]
  },
  {
   "cell_type": "code",
   "execution_count": 80,
   "id": "ed8169ff",
   "metadata": {},
   "outputs": [
    {
     "data": {
      "text/plain": [
       "(2205, 28975)"
      ]
     },
     "execution_count": 80,
     "metadata": {},
     "output_type": "execute_result"
    }
   ],
   "source": [
    "from sklearn.feature_extraction.text import CountVectorizer\n",
    "vect = CountVectorizer()\n",
    "vect.fit(X)\n",
    "X = vect.transform(X)\n",
    "X.shape"
   ]
  },
  {
   "cell_type": "markdown",
   "id": "6bd75688",
   "metadata": {},
   "source": [
    "Create X and Y Training and Testing Datasets."
   ]
  },
  {
   "cell_type": "code",
   "execution_count": 81,
   "id": "f573d2a3",
   "metadata": {},
   "outputs": [
    {
     "name": "stdout",
     "output_type": "stream",
     "text": [
      "(1653, 28975) (552, 28975) (1653,) (552,)\n"
     ]
    }
   ],
   "source": [
    "X_train, X_test, y_train, y_test = train_test_split(X, y, test_size=0.25)\n",
    "print(X_train.shape, X_test.shape, y_train.shape, y_test.shape)"
   ]
  },
  {
   "cell_type": "markdown",
   "id": "a4815c02",
   "metadata": {},
   "source": [
    "5b. Train and test the ML model and  print  accuracy measurements."
   ]
  },
  {
   "cell_type": "code",
   "execution_count": 82,
   "id": "560c2358",
   "metadata": {
    "scrolled": true
   },
   "outputs": [
    {
     "name": "stdout",
     "output_type": "stream",
     "text": [
      "0.9855072463768116\n"
     ]
    },
    {
     "data": {
      "text/plain": [
       "array([[122,   0,   3,   0,   1],\n",
       "       [  2,  84,   1,   0,   0],\n",
       "       [  0,   0, 105,   0,   0],\n",
       "       [  1,   0,   0, 119,   0],\n",
       "       [  0,   0,   0,   0, 114]])"
      ]
     },
     "execution_count": 82,
     "metadata": {},
     "output_type": "execute_result"
    }
   ],
   "source": [
    "classifier = MultinomialNB()\n",
    "classifier.fit(X_train, y_train)\n",
    "y_pred = classifier.predict(X_test)\n",
    "# accuracy\n",
    "print(metrics.accuracy_score(y_test, y_pred))\n",
    "metrics.confusion_matrix(y_test, y_pred, labels=[0,1,2,3,4])"
   ]
  },
  {
   "cell_type": "raw",
   "id": "9ded0711",
   "metadata": {},
   "source": [
    "The confusion matrix reports 537 predicted out of 552 total. This agrees with the accuracy score of 97.2826%."
   ]
  },
  {
   "cell_type": "code",
   "execution_count": 83,
   "id": "82554d9c",
   "metadata": {},
   "outputs": [
    {
     "name": "stdout",
     "output_type": "stream",
     "text": [
      "{0: 'Business', 1: 'Entertainment', 2: 'Politics', 3: 'Sport', 4: 'Tech'}\n"
     ]
    }
   ],
   "source": [
    "print(d)"
   ]
  },
  {
   "cell_type": "markdown",
   "id": "8ebfb3ae",
   "metadata": {},
   "source": [
    "From the [BBC News](https://www.bbc.com/news) website, select 3 different articles w/ entertainment, business, and tech, copy/paste a few body paragraphs into each variable for testing data."
   ]
  },
  {
   "cell_type": "code",
   "execution_count": 84,
   "id": "2d4553ef",
   "metadata": {},
   "outputs": [],
   "source": [
    "entertainment = \"The film's production company Paramount Pictures said the injuries were non life-threatening and happened while shooting a planned stunt sequence. The crew members were all in stable condition and continue to receive treatment, the statement said. Earlier this week, the Sun reported there had been an explosion and six people went to hospital. It was terrifying - a huge ball of fire flew up and caught several crew members in its path. In years of filming I've never seen an accident so scary, a source told the newspaper. Everyone involved, from the lowliest runners to the star names, has been shaken up by this, they added. In a statement, a Paramount Pictures spokesperson said: The safety and full medical services teams on-site were able to act quickly so that those who were impacted immediately received necessary care. They said it has strict health and safety procedures in place on all our productions and would take all necessary precautions as we resume production. According to Variety, no cast members were injured but six people received treatment for burn injuries and four remain in hospital. Sir Ridley Scott, who directed the original 2000 historical drama film, is returning to direct the second instalment, which is scheduled to be released in November 2024. No title has yet been announced for the sequel, which stars Normal People actor Paul Mescal, Denzel Washington and Connie Nielson. The original film won five Oscars, including best actor for Russell Crowe, who played Roman general Maximus Decimus Meridius alongside Joaquin Phoenix as Emperor Commodus. The movie, set during the height of the Roman Empire, sees Maximus start out as a war hero before before being forced to become a gladiator. Gladiator made $457m (£355m) at the box office and revived the historical epic drama genre, which had been out of fashion for decades.\""
   ]
  },
  {
   "cell_type": "code",
   "execution_count": 85,
   "id": "61efbb89",
   "metadata": {},
   "outputs": [],
   "source": [
    "business=\"Laura Lane, UPS's chief corporate affairs and sustainability officer, enters the BBC's Executive Lounge to discuss how the massive logistics company isn't waiting for the perfect electric lorry. While your online purchases are on the road, Laura Lane is keeping on an eye on the impact of the journey. As UPS's chief corporate affairs and sustainability officer, Lane is working to trim the emissions of the logistics firm, which is responsible for delivering 22 million packages every day across more than 200 countries and territories. Most of these deliveries are driven on a fleet of 125,000 package cars, vans, lorries and motorcycles, or flown on a fleet of around 500 leased, owned and chartered aircraft. The combined emissions from all these vehicles add up. According to UPS data seen by the BBC, its air and ground operations produced a total of 14 million tonnes of CO2 or equivalent emissions in 2023. Lane isn't content to simply wait for the perfect solution, be that an emissions-free aircraft fuel or a fully battery-electric lorry. She's figuring out the answer as she goes – and the vast amount of data collected by UPS is critical to reaching the company's sustainability targets. UPS is an engineering company and a technology company at its foundation, Lane tells the BBC, and so we're always looking for efficiencies. And efficiencies equal sustainability. So far, UPS is finding success. In 2023, it logged an 8.1% decrease in Scope 1 emissions (pollution UPS produces directly), Scope 2 emissions (pollution from sources like electricity UPS uses to power its facilities) and Scope 3 emissions (pollution associated with the company's suppliers and customers use of UPS' services). That's an improvement from 6.9% the previous year.  Lane, who joined UPS as its president of global public affairs in 2011 – and previously served as a US trade negotiator, a US foreign service diplomat and an executive at both Time Warner and Citigroup – talked to the BBC about how the logistics company is setting itself up to meet its alternative-fuel goals early The BBC's series features interviews with executive leaders making innovative, data-driven decisions helping shape the future of business – and paving the path for other leaders to thrive. Read more conversations here.\""
   ]
  },
  {
   "cell_type": "code",
   "execution_count": 86,
   "id": "be7a4502",
   "metadata": {},
   "outputs": [],
   "source": [
    "tech = \"A trial under way at Aberdeen Royal Infirmary is exploring whether artificial intelligence (AI) can assist radiologists in reviewing thousands of mammograms a year. The pilot helped spot early-stage breast cancer for June - a healthcare assistant and participant in the trial - and she is now set to undergo surgery as a result. Mammograms are low level X-rays used in breast cancer screenings to monitor and detect changes too small to see or feel. According to the NHS, they help save about 1,300 lives each year in the UK. And while the number of women who attended a routine breast screening, after an invitation, increased in Scotland in the three-year period to 2022, the number of radiologists to review results is shrinking. What is AI? AI - technology which sees computers perform specific tasks that would typically require human intelligence - is already widely used across a range of industries. While high-profile experts' fears that AI could lead to the extinction of humanity have recently been making headlines, the tech's more practical realities are already being shown in healthcare. Its potential to speed up the process of drug and disease discovery means many scientists and doctors see AI as a powerful tool to work with, rather than replace, practitioners.\""
   ]
  },
  {
   "cell_type": "markdown",
   "id": "332a0367",
   "metadata": {},
   "source": [
    "6c. __Create a DataFrame from the 3 Python strings__.<br>\n",
    "Then __print the DataFrame__.\n",
    "\n",
    "_An example DataFrame is shown below, from news articles on 6/3. Your text will be different._"
   ]
  },
  {
   "cell_type": "code",
   "execution_count": 87,
   "id": "dcdd8072",
   "metadata": {},
   "outputs": [
    {
     "data": {
      "text/html": [
       "<div>\n",
       "<style scoped>\n",
       "    .dataframe tbody tr th:only-of-type {\n",
       "        vertical-align: middle;\n",
       "    }\n",
       "\n",
       "    .dataframe tbody tr th {\n",
       "        vertical-align: top;\n",
       "    }\n",
       "\n",
       "    .dataframe thead th {\n",
       "        text-align: right;\n",
       "    }\n",
       "</style>\n",
       "<table border=\"1\" class=\"dataframe\">\n",
       "  <thead>\n",
       "    <tr style=\"text-align: right;\">\n",
       "      <th></th>\n",
       "      <th>text</th>\n",
       "    </tr>\n",
       "  </thead>\n",
       "  <tbody>\n",
       "    <tr>\n",
       "      <th>0</th>\n",
       "      <td>The film's production company Paramount Pictur...</td>\n",
       "    </tr>\n",
       "    <tr>\n",
       "      <th>1</th>\n",
       "      <td>Laura Lane, UPS's chief corporate affairs and ...</td>\n",
       "    </tr>\n",
       "    <tr>\n",
       "      <th>2</th>\n",
       "      <td>A trial under way at Aberdeen Royal Infirmary ...</td>\n",
       "    </tr>\n",
       "  </tbody>\n",
       "</table>\n",
       "</div>"
      ],
      "text/plain": [
       "                                                text\n",
       "0  The film's production company Paramount Pictur...\n",
       "1  Laura Lane, UPS's chief corporate affairs and ...\n",
       "2  A trial under way at Aberdeen Royal Infirmary ..."
      ]
     },
     "metadata": {},
     "output_type": "display_data"
    }
   ],
   "source": [
    "d2 = pd.DataFrame(columns = [\"text\"],data = [[entertainment], [business], [tech]])\n",
    "display(d2)"
   ]
  },
  {
   "cell_type": "markdown",
   "id": "17156442",
   "metadata": {},
   "source": [
    "6d. Test the ML model with new data.\n",
    "1. Preprocess the new data\n",
    "2. Convert the new data to numbers\n",
    "3. Test the model with the data\n",
    "4. Print the categories of news  that the model predicted. "
   ]
  },
  {
   "cell_type": "code",
   "execution_count": 88,
   "id": "245bc23b-17b8-4830-804c-f3266be074a8",
   "metadata": {},
   "outputs": [
    {
     "data": {
      "text/html": [
       "<div>\n",
       "<style scoped>\n",
       "    .dataframe tbody tr th:only-of-type {\n",
       "        vertical-align: middle;\n",
       "    }\n",
       "\n",
       "    .dataframe tbody tr th {\n",
       "        vertical-align: top;\n",
       "    }\n",
       "\n",
       "    .dataframe thead th {\n",
       "        text-align: right;\n",
       "    }\n",
       "</style>\n",
       "<table border=\"1\" class=\"dataframe\">\n",
       "  <thead>\n",
       "    <tr style=\"text-align: right;\">\n",
       "      <th></th>\n",
       "      <th>text</th>\n",
       "    </tr>\n",
       "  </thead>\n",
       "  <tbody>\n",
       "    <tr>\n",
       "      <th>0</th>\n",
       "      <td>the film s product compani paramount pictur sa...</td>\n",
       "    </tr>\n",
       "    <tr>\n",
       "      <th>1</th>\n",
       "      <td>laura lane up s chief corpor affair and sustai...</td>\n",
       "    </tr>\n",
       "    <tr>\n",
       "      <th>2</th>\n",
       "      <td>a trial under way at aberdeen royal infirmari ...</td>\n",
       "    </tr>\n",
       "  </tbody>\n",
       "</table>\n",
       "</div>"
      ],
      "text/plain": [
       "                                                text\n",
       "0  the film s product compani paramount pictur sa...\n",
       "1  laura lane up s chief corpor affair and sustai...\n",
       "2  a trial under way at aberdeen royal infirmari ..."
      ]
     },
     "execution_count": 88,
     "metadata": {},
     "output_type": "execute_result"
    }
   ],
   "source": [
    "#preprocess new data\n",
    "from nltk.tokenize import RegexpTokenizer\n",
    "from nltk.corpus import stopwords\n",
    "from nltk.stem import PorterStemmer\n",
    "#nltk.download('stopwords')\n",
    "#stop_words=set(stopwords.words(\"english\"))\n",
    "stemmer = PorterStemmer()\n",
    "tokenizer = RegexpTokenizer('[a-z]+')   # use tokenizer for letters only\n",
    "\n",
    "def preprocess(s) :\n",
    "    w = tokenizer.tokenize(s.lower())         # separate into words and lowercase each word\n",
    " #   w = [word for word in w if word not in stop_words]    # remove stop words\n",
    "    w = [stemmer.stem(word) for word in w]    # find stem of each word\n",
    "    return ' '.join(w)         # join back into a string\n",
    "\n",
    "# with each row, preprocess the text string, and store all rows in the X_processed DataFrame\n",
    "X = pd.DataFrame([preprocess(d2.loc[i,'text']) for i in range(len(d2))])\n",
    "X.columns = [\"text\"]\n",
    "X.head() \n"
   ]
  },
  {
   "cell_type": "code",
   "execution_count": 89,
   "id": "b78a3980-8ed7-48d3-9d9b-cd1373caf6e3",
   "metadata": {},
   "outputs": [
    {
     "data": {
      "text/plain": [
       "<1x28975 sparse matrix of type '<class 'numpy.int64'>'\n",
       "\twith 92 stored elements in Compressed Sparse Row format>"
      ]
     },
     "metadata": {},
     "output_type": "display_data"
    }
   ],
   "source": [
    "#convert new data to numbers\n",
    "X_new=X[\"text\"]\n",
    "X_new = vect.transform(X_new)\n",
    "display(X_new[0])"
   ]
  },
  {
   "cell_type": "code",
   "execution_count": 90,
   "id": "d62de6b1-0ded-4b56-934d-d57bd7e05d09",
   "metadata": {},
   "outputs": [
    {
     "name": "stdout",
     "output_type": "stream",
     "text": [
      "[1 4 4]\n"
     ]
    }
   ],
   "source": [
    "#test model with data\n",
    "y_pred_new=classifier.predict(X_new)\n",
    "print(y_pred_new)"
   ]
  },
  {
   "cell_type": "code",
   "execution_count": 91,
   "id": "34dc4110-197d-4e6d-b78a-728b9d1ef7a0",
   "metadata": {},
   "outputs": [
    {
     "name": "stdout",
     "output_type": "stream",
     "text": [
      "Article 1: Entertainment\n",
      "Article 2: Tech\n",
      "Article 3: Tech\n"
     ]
    }
   ],
   "source": [
    "\n",
    "# Print the categories of news that the model predicted\n",
    "for i, pred in enumerate(y_pred_new):\n",
    "    print(f\"Article {i+1}: {d[pred]}\")"
   ]
  }
 ],
 "metadata": {
  "kernelspec": {
   "display_name": "Python 3 (ipykernel)",
   "language": "python",
   "name": "python3"
  },
  "language_info": {
   "codemirror_mode": {
    "name": "ipython",
    "version": 3
   },
   "file_extension": ".py",
   "mimetype": "text/x-python",
   "name": "python",
   "nbconvert_exporter": "python",
   "pygments_lexer": "ipython3",
   "version": "3.12.3"
  }
 },
 "nbformat": 4,
 "nbformat_minor": 5
}
